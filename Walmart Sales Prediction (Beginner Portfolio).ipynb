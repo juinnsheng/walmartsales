{
 "cells": [
  {
   "cell_type": "code",
   "execution_count": 1,
   "id": "35174ad5",
   "metadata": {},
   "outputs": [],
   "source": [
    "#Dataset obtained from https://www.kaggle.com/datasets/yasserh/walmart-dataset\n",
    "#Thank you M Yasser H for the dataset"
   ]
  },
  {
   "cell_type": "code",
   "execution_count": 2,
   "id": "cdcef2c3",
   "metadata": {},
   "outputs": [],
   "source": [
    "import pandas as pd\n",
    "sales = pd.read_csv(\"walmartsales.csv\")"
   ]
  },
  {
   "cell_type": "code",
   "execution_count": 3,
   "id": "0fbce60b",
   "metadata": {},
   "outputs": [
    {
     "name": "stdout",
     "output_type": "stream",
     "text": [
      "False\n"
     ]
    }
   ],
   "source": [
    "#Check for duplicates\n",
    "duplicates = sales.duplicated().any()\n",
    "print(duplicates)"
   ]
  },
  {
   "cell_type": "code",
   "execution_count": 4,
   "id": "1640b821",
   "metadata": {},
   "outputs": [
    {
     "name": "stdout",
     "output_type": "stream",
     "text": [
      "Store           False\n",
      "Date            False\n",
      "Weekly_Sales    False\n",
      "Holiday_Flag    False\n",
      "Temperature     False\n",
      "Fuel_Price      False\n",
      "CPI             False\n",
      "Unemployment    False\n",
      "dtype: bool\n"
     ]
    }
   ],
   "source": [
    "#Check for NaN values\n",
    "isna = sales.isna().any()\n",
    "print(isna)"
   ]
  },
  {
   "cell_type": "code",
   "execution_count": 5,
   "id": "d617a6bb",
   "metadata": {},
   "outputs": [
    {
     "name": "stdout",
     "output_type": "stream",
     "text": [
      "Store           0\n",
      "Date            0\n",
      "Weekly_Sales    0\n",
      "Holiday_Flag    0\n",
      "Temperature     0\n",
      "Fuel_Price      0\n",
      "CPI             0\n",
      "Unemployment    0\n",
      "dtype: int64\n"
     ]
    }
   ],
   "source": [
    "#Sum of NaN values\n",
    "isna = sales.isna().sum()\n",
    "print(isna)"
   ]
  },
  {
   "cell_type": "code",
   "execution_count": 6,
   "id": "0f1250bb",
   "metadata": {},
   "outputs": [
    {
     "data": {
      "image/png": "[encoded data removed]",
      "text/plain": [
       "<Figure size 640x480 with 1 Axes>"
      ]
     },
     "metadata": {},
     "output_type": "display_data"
    }
   ],
   "source": [
    "#Check for outliers\n",
    "from pandasql import sqldf\n",
    "query = \"SELECT Store, Date, Weekly_Sales from sales\"\n",
    "rawdata = sqldf(query)\n",
    "import seaborn as sns\n",
    "import matplotlib.pyplot as plt\n",
    "sns.boxplot(data=rawdata, x='Weekly_Sales')\n",
    "plt.show()"
   ]
  },
  {
   "cell_type": "code",
   "execution_count": 7,
   "id": "6a86a728",
   "metadata": {},
   "outputs": [
    {
     "data": {
      "text/html": [
       "<div>\n",
       "<style scoped>\n",
       "    .dataframe tbody tr th:only-of-type {\n",
       "        vertical-align: middle;\n",
       "    }\n",
       "\n",
       "    .dataframe tbody tr th {\n",
       "        vertical-align: top;\n",
       "    }\n",
       "\n",
       "    .dataframe thead th {\n",
       "        text-align: right;\n",
       "    }\n",
       "</style>\n",
       "<table border=\"1\" class=\"dataframe\">\n",
       "  <thead>\n",
       "    <tr style=\"text-align: right;\">\n",
       "      <th></th>\n",
       "      <th>count</th>\n",
       "      <th>mean</th>\n",
       "      <th>std</th>\n",
       "      <th>min</th>\n",
       "      <th>25%</th>\n",
       "      <th>50%</th>\n",
       "      <th>75%</th>\n",
       "      <th>max</th>\n",
       "    </tr>\n",
       "  </thead>\n",
       "  <tbody>\n",
       "    <tr>\n",
       "      <th>Store</th>\n",
       "      <td>6435.0</td>\n",
       "      <td>2.300000e+01</td>\n",
       "      <td>12.988182</td>\n",
       "      <td>1.00</td>\n",
       "      <td>12.000</td>\n",
       "      <td>23.00</td>\n",
       "      <td>34.00</td>\n",
       "      <td>45.00</td>\n",
       "    </tr>\n",
       "    <tr>\n",
       "      <th>Weekly_Sales</th>\n",
       "      <td>6435.0</td>\n",
       "      <td>1.046965e+06</td>\n",
       "      <td>564366.622054</td>\n",
       "      <td>209986.25</td>\n",
       "      <td>553350.105</td>\n",
       "      <td>960746.04</td>\n",
       "      <td>1420158.66</td>\n",
       "      <td>3818686.45</td>\n",
       "    </tr>\n",
       "  </tbody>\n",
       "</table>\n",
       "</div>"
      ],
      "text/plain": [
       "               count          mean            std        min         25%  \\\n",
       "Store         6435.0  2.300000e+01      12.988182       1.00      12.000   \n",
       "Weekly_Sales  6435.0  1.046965e+06  564366.622054  209986.25  553350.105   \n",
       "\n",
       "                    50%         75%         max  \n",
       "Store             23.00       34.00       45.00  \n",
       "Weekly_Sales  960746.04  1420158.66  3818686.45  "
      ]
     },
     "execution_count": 7,
     "metadata": {},
     "output_type": "execute_result"
    }
   ],
   "source": [
    "#Summary statistics\n",
    "rawdata.describe().T"
   ]
  },
  {
   "cell_type": "code",
   "execution_count": 8,
   "id": "dfce70ec",
   "metadata": {},
   "outputs": [],
   "source": [
    "#Creating a function to check for outliers\n",
    "def outliers(rawdata):\n",
    "    q1 = rawdata.quantile(0.25)\n",
    "    q3 = rawdata.quantile(0.75)\n",
    "    IQR = q3 - q1\n",
    "    outliers = rawdata[(rawdata<(q1-1.5*IQR)) | (rawdata>(q3+1.5*IQR))]\n",
    "    return outliers"
   ]
  },
  {
   "cell_type": "code",
   "execution_count": 9,
   "id": "22de8cfa",
   "metadata": {},
   "outputs": [
    {
     "name": "stdout",
     "output_type": "stream",
     "text": [
      "34\n",
      "189     3436007.68\n",
      "241     3224369.80\n",
      "471     2789469.45\n",
      "474     2740057.14\n",
      "475     3526713.39\n",
      "523     3004702.33\n",
      "526     2771397.17\n",
      "527     3676388.98\n",
      "761     2727575.18\n",
      "1329    2939946.38\n",
      "1332    2811646.85\n",
      "1333    3749057.69\n",
      "1381    2950198.64\n",
      "1385    3487986.89\n",
      "1758    2766400.05\n",
      "1761    2771646.81\n",
      "1762    3595903.20\n",
      "1810    2864170.61\n",
      "1813    2760346.71\n",
      "1814    3556766.03\n",
      "1901    2921709.71\n",
      "1904    2762861.41\n",
      "1905    3818686.45\n",
      "1957    3369068.99\n",
      "2759    2811634.04\n",
      "2761    2752122.08\n",
      "2762    2819193.17\n",
      "2763    3766687.43\n",
      "2811    2906233.25\n",
      "2814    2762816.65\n",
      "2815    3555371.03\n",
      "3192    2734277.10\n",
      "3764    3078162.08\n",
      "3816    2739019.75\n",
      "Name: Weekly_Sales, dtype: float64\n"
     ]
    }
   ],
   "source": [
    "#Checking for outliers and the total number of outliers\n",
    "y = outliers(rawdata['Weekly_Sales'])\n",
    "print(len(y))\n",
    "print(y)"
   ]
  },
  {
   "cell_type": "code",
   "execution_count": 10,
   "id": "69fdf4a5",
   "metadata": {},
   "outputs": [],
   "source": [
    "#Creating another function to remove outliers from our dataset\n",
    "def dropoutliers(rawdata):\n",
    "    q1 = rawdata.quantile(0.25)\n",
    "    q3 = rawdata.quantile(0.75)\n",
    "    IQR = q3 - q1\n",
    "    dropoutliers = rawdata[~((rawdata<(q1-1.5*IQR)) | (rawdata>(q3+1.5*IQR)))]\n",
    "    return dropoutliers"
   ]
  },
  {
   "cell_type": "code",
   "execution_count": 11,
   "id": "aa59a0d5",
   "metadata": {},
   "outputs": [
    {
     "name": "stdout",
     "output_type": "stream",
     "text": [
      "      Store        Date  Weekly_Sales\n",
      "0         1  05-02-2010    1643690.90\n",
      "1         1  12-02-2010    1641957.44\n",
      "2         1  19-02-2010    1611968.17\n",
      "3         1  26-02-2010    1409727.59\n",
      "4         1  05-03-2010    1554806.68\n",
      "...     ...         ...           ...\n",
      "6430     45  28-09-2012     713173.95\n",
      "6431     45  05-10-2012     733455.07\n",
      "6432     45  12-10-2012     734464.36\n",
      "6433     45  19-10-2012     718125.53\n",
      "6434     45  26-10-2012     760281.43\n",
      "\n",
      "[6435 rows x 3 columns]\n"
     ]
    },
    {
     "name": "stderr",
     "output_type": "stream",
     "text": [
      "/var/folders/f5/gfbd60tn7mldmd0mrjqw54sh0000gn/T/ipykernel_1997/2140010507.py:6: FutureWarning: Automatic reindexing on DataFrame vs Series comparisons is deprecated and will raise ValueError in a future version. Do `left, right = left.align(right, axis=1, copy=False)` before e.g. `left == right`\n",
      "  dropoutliers = rawdata[~((rawdata<(q1-1.5*IQR)) | (rawdata>(q3+1.5*IQR)))]\n"
     ]
    }
   ],
   "source": [
    "#Removing outliers\n",
    "data1 = dropoutliers(rawdata)\n",
    "print(data1)"
   ]
  },
  {
   "cell_type": "code",
   "execution_count": 12,
   "id": "14417f3f",
   "metadata": {},
   "outputs": [],
   "source": [
    "#Thanks to ERIC KLEPPEN from https://careerfoundry.com/en/blog/data-analytics/how-to-find-outliers/ for the guide"
   ]
  },
  {
   "cell_type": "code",
   "execution_count": 15,
   "id": "ef261b76",
   "metadata": {},
   "outputs": [
    {
     "name": "stdout",
     "output_type": "stream",
     "text": [
      "      Store       Date  Weekly_Sales  year  month   day   Sales  store\n",
      "0         1 2010-05-02    1643690.90   0.0    4.0   1.0  5364.0      0\n",
      "1         1 2010-12-02    1641957.44   0.0   11.0   1.0  5360.0      0\n",
      "2         1 2010-02-19    1611968.17   0.0    1.0  18.0  5297.0      0\n",
      "3         1 2010-02-26    1409727.59   0.0    1.0  25.0  4784.0      0\n",
      "4         1 2010-05-03    1554806.68   0.0    4.0   2.0  5190.0      0\n",
      "...     ...        ...           ...   ...    ...   ...     ...    ...\n",
      "6430     45 2012-09-28     713173.95   2.0    8.0  27.0  2284.0     44\n",
      "6431     45 2012-05-10     733455.07   2.0    4.0   9.0  2360.0     44\n",
      "6432     45 2012-12-10     734464.36   2.0   11.0   9.0  2365.0     44\n",
      "6433     45 2012-10-19     718125.53   2.0    9.0  18.0  2307.0     44\n",
      "6434     45 2012-10-26     760281.43   2.0    9.0  25.0  2434.0     44\n",
      "\n",
      "[6435 rows x 8 columns]\n"
     ]
    }
   ],
   "source": [
    "#Categorical encoding\n",
    "from sklearn.preprocessing import OrdinalEncoder\n",
    "from sklearn.preprocessing import LabelEncoder\n",
    "import numpy as np\n",
    "\n",
    "data1['Date'] = pd.to_datetime(data1['Date'])\n",
    "data1['year'] = data1['Date'].dt.year\n",
    "data1['month'] = data1['Date'].dt.month\n",
    "data1['day'] = data1['Date'].dt.day\n",
    "encoder = OrdinalEncoder()\n",
    "encoded_date = encoder.fit_transform(data1[['year', 'month', 'day']])\n",
    "data1[['year', 'month', 'day']] = encoded_date\n",
    "\n",
    "encoder2 = LabelEncoder()\n",
    "data1['Sales'] = encoder2.fit_transform(data1['Weekly_Sales']).astype(np.float32)\n",
    "data1['store'] = encoder2.fit_transform(data1['Store'])\n",
    "print(data1)"
   ]
  },
  {
   "cell_type": "code",
   "execution_count": 16,
   "id": "f1f401dd",
   "metadata": {},
   "outputs": [],
   "source": [
    "#Preparing data (X, y)\n",
    "X = np.concatenate((data1[['store']].values, data1[['year', 'month', 'day']].values), axis=1)\n",
    "y = data1['Sales']"
   ]
  },
  {
   "cell_type": "code",
   "execution_count": 17,
   "id": "0a005a76",
   "metadata": {},
   "outputs": [],
   "source": [
    "#Train Test Split\n",
    "from sklearn.model_selection import train_test_split\n",
    "X_train, X_test, y_train, y_test = train_test_split(X, y, test_size=0.2, random_state=42)"
   ]
  },
  {
   "cell_type": "code",
   "execution_count": 18,
   "id": "8be5221c",
   "metadata": {},
   "outputs": [],
   "source": [
    "#Ensemble Model\n",
    "from sklearn.ensemble import RandomForestRegressor, AdaBoostRegressor\n",
    "rf = RandomForestRegressor(n_estimators=100, max_depth=10, random_state=42)\n",
    "ada = AdaBoostRegressor(n_estimators=100, random_state=42)\n",
    "rf.fit(X_train, y_train)\n",
    "ada.fit(X_train, y_train)\n",
    "rf_pred = rf.predict(X_test)\n",
    "ada_pred = ada.predict(X_test)\n",
    "ensemble_pred = (rf_pred + ada_pred)/2"
   ]
  },
  {
   "cell_type": "code",
   "execution_count": 19,
   "id": "9d1568c5",
   "metadata": {},
   "outputs": [
    {
     "name": "stdout",
     "output_type": "stream",
     "text": [
      "      Store       Date  Weekly_Sales  ensemble_pred\n",
      "0         0 2010-05-02        3853.0    3954.075965\n",
      "1         0 2010-12-02        4374.0    4098.091214\n",
      "2         0 2010-02-19        5553.0    4668.053479\n",
      "3         0 2010-02-26        3667.0    3603.486106\n",
      "4         0 2010-05-03         838.0    1523.275350\n",
      "...     ...        ...           ...            ...\n",
      "1282      8 2012-09-28        5024.0    4292.737990\n",
      "1283      8 2012-05-10        2561.0    2001.198876\n",
      "1284      8 2012-12-10        2870.0    2035.607304\n",
      "1285      8 2012-10-19        6146.0    4907.789231\n",
      "1286      8 2012-10-26        2611.0    3200.266330\n",
      "\n",
      "[1287 rows x 4 columns]\n"
     ]
    }
   ],
   "source": [
    "y_test = y_test.reset_index(drop=True)\n",
    "ensemble_pred = pd.Series(ensemble_pred)\n",
    "ensemble_pred = ensemble_pred.reset_index(drop=True)\n",
    "result = pd.DataFrame({'Store': data1['store'], 'Date': data1['Date'], 'Weekly_Sales': y_test, 'ensemble_pred': ensemble_pred}).dropna()\n",
    "print(result)"
   ]
  },
  {
   "cell_type": "code",
   "execution_count": 20,
   "id": "86555feb",
   "metadata": {},
   "outputs": [
    {
     "name": "stdout",
     "output_type": "stream",
     "text": [
      "MAE: 712.2611636143926\n",
      "MSE: 677396.1472141591\n",
      "RMSE: 823.0407931652958\n",
      "0.8087295201669801\n"
     ]
    }
   ],
   "source": [
    "from sklearn.metrics import mean_absolute_error, mean_squared_error, r2_score\n",
    "mae = mean_absolute_error(y_test, ensemble_pred)\n",
    "print(\"MAE:\", mae)\n",
    "\n",
    "mse = mean_squared_error(y_test,ensemble_pred)\n",
    "print(\"MSE:\", mse)\n",
    "\n",
    "rmse = np.sqrt(mse)\n",
    "print(\"RMSE:\", rmse)\n",
    "\n",
    "r2 = r2_score(y_test, ensemble_pred)\n",
    "print(r2)"
   ]
  },
  {
   "cell_type": "code",
   "execution_count": null,
   "id": "5b1e4444",
   "metadata": {},
   "outputs": [],
   "source": []
  },
  {
   "cell_type": "code",
   "execution_count": null,
   "id": "ef38e121",
   "metadata": {},
   "outputs": [],
   "source": []
  }
 ],
 "metadata": {
  "kernelspec": {
   "display_name": "Python 3 (ipykernel)",
   "language": "python",
   "name": "python3"
  },
  "language_info": {
   "codemirror_mode": {
    "name": "ipython",
    "version": 3
   },
   "file_extension": ".py",
   "mimetype": "text/x-python",
   "name": "python",
   "nbconvert_exporter": "python",
   "pygments_lexer": "ipython3",
   "version": "3.9.13"
  }
 },
 "nbformat": 4,
 "nbformat_minor": 5
}
